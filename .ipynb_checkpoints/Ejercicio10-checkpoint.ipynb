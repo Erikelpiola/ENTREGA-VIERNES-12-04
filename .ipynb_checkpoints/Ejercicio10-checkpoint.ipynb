{
 "cells": [
  {
   "cell_type": "markdown",
   "metadata": {},
   "source": [
    "##  EJERCICIO 10   ##"
   ]
  },
  {
   "cell_type": "markdown",
   "metadata": {},
   "source": [
    "### Comienzo con lo principal que es la importacion de los modulos q nos ayudan a resolver los ejercicios ###\n",
    "### Y, también, los datos con los que se cuentan para realizar la actividad y que nos seran utiles ###"
   ]
  },
  {
   "cell_type": "code",
   "execution_count": null,
   "metadata": {},
   "outputs": [],
   "source": [
    "import modulos\n",
    "\n",
    "names = \"Agustin, Yanina, Andrés, Ariadna, Bautista, CAROLINA, CESAR, David, Diego, Dolores, DYLAN, ELIANA, Emanuel, Fabián, Noelia, Francsica, FEDERICO, Fernanda, GONZALO, Nancy \"\n",
    "goals = [0, 10, 4, 0, 5, 14, 0, 0, 7, 2, 1, 1, 1, 5, 6, 1, 1, 2, 0,\n",
    "11]\n",
    "goals_avoided = [0, 2, 0, 0, 5, 2, 0, 0, 1, 2, 0, 5, 5, 0, 1, 0, 2,\n",
    "3, 0, 0]\n",
    "assists = [0, 5, 1, 0, 5, 2, 0, 0, 1, 2, 1, 5, 5, 0, 1, 0, 2, 3, 1,\n",
    "0]"
   ]
  },
  {
   "cell_type": "code",
   "execution_count": null,
   "metadata": {},
   "outputs": [],
   "source": [
    "__(Para mas comodidad a la hora de programar convierto los nombres en minusculas)__\n",
    "\n",
    "#### Luego de analizarlo, lo más indicado a usar para el inciso A ####\n",
    "#### era hacer un diccionario que contenga el nombre y las estadisticas de los jugadores: ####\n"
   ]
  },
  {
   "cell_type": "code",
   "execution_count": 15,
   "metadata": {},
   "outputs": [
    {
     "name": "stdout",
     "output_type": "stream",
     "text": [
      "{'agustin': [0, 0, 0], 'yanina': [10, 2, 5], 'andrés': [4, 0, 1], 'ariadna': [0, 0, 0], 'bautista': [5, 5, 5], 'carolina': [14, 2, 2], 'cesar': [0, 0, 0], 'david': [0, 0, 0], 'diego': [7, 1, 1], 'dolores': [2, 2, 2], 'dylan': [1, 0, 1], 'eliana': [1, 5, 5], 'emanuel': [1, 5, 5], 'fabián': [5, 0, 0], 'noelia': [6, 1, 1], 'francsica': [1, 0, 0], 'federico': [1, 2, 2], 'fernanda': [2, 3, 3], 'gonzalo': [0, 0, 1], 'nancy ': [11, 0, 0]}\n"
     ]
    }
   ],
   "source": [
    "names= names.lower()\n",
    "stats={}\n",
    "modulos.new_Structure(names,goals,goals_avoided,assists,stats)\n",
    "print(stats)"
   ]
  },
  {
   "cell_type": "markdown",
   "metadata": {},
   "source": [
    "#### Como no sabía bien qué se buscaba en el inciso B, procedi a realizar un modulo que reciba un nombre y devuelve sus estadisticas ####"
   ]
  },
  {
   "cell_type": "markdown",
   "metadata": {},
   "source": [
    "name1=\"aGuStIn\"\n",
    "print(modulos.get_Player1(stats,name1))"
   ]
  },
  {
   "cell_type": "markdown",
   "metadata": {},
   "source": [
    "#### No obstante, cree otro modulo para buscar cuál fue el mayor goleador con las estadisticas brindadas ####\n"
   ]
  },
  {
   "cell_type": "code",
   "execution_count": 20,
   "metadata": {},
   "outputs": [
    {
     "name": "stdout",
     "output_type": "stream",
     "text": [
      "El maximo goleador fue carolina con un total de 14 goles a favor.\n"
     ]
    }
   ],
   "source": [
    "name2,goal=modulos.get_Player2(stats)\n",
    "print(f\"El maximo goleador fue {name2} con un total de {goal} goles a favor.\")"
   ]
  },
  {
   "cell_type": "markdown",
   "metadata": {},
   "source": [
    "#### Los dos cumplirian con su funcion en el caso que se desee buscar las estadisticas especificas de un jugador ####\n",
    "#### o que se desee buscar la información del mayor goleador del equipo ####\n",
    "__A diferencia del anterior código, este imprime afuera del modulo.__"
   ]
  },
  {
   "cell_type": "markdown",
   "metadata": {},
   "source": [
    "-------------------------------------------------------"
   ]
  },
  {
   "cell_type": "markdown",
   "metadata": {},
   "source": [
    "#### Con la tabla de puntuaciones dadas(inciso C), se calcula por cada jugador, cuál fue el que más puntaje de influencia obtuvo: ####"
   ]
  },
  {
   "cell_type": "code",
   "execution_count": null,
   "metadata": {},
   "outputs": [],
   "source": [
    "influyente=modulos.max_Influence(stats)\n",
    "print(f\"La jugadora mas influyente es {influyente}\")"
   ]
  },
  {
   "cell_type": "markdown",
   "metadata": {},
   "source": [
    "#### Este codigo obtiene el promedio de goles de cada partido a lo largo de los 25 jugados en la temporada completando el inciso D: ####"
   ]
  },
  {
   "cell_type": "code",
   "execution_count": null,
   "metadata": {},
   "outputs": [],
   "source": [
    "\n",
    "prom_goles=modulos.prom_Goals(stats)\n",
    "print(f\"El promedio de goles por partido del equipo es: {prom_goles}\")"
   ]
  },
  {
   "cell_type": "code",
   "execution_count": 27,
   "metadata": {},
   "outputs": [],
   "source": [
    "#### Lo mismo que me pasó con el inciso B, ahora en el inciso D hice 2 modulos para cada caso: ####\n",
    "#### Para el primero, que busque a un jugador y que calcule su promedio de goles en cada partido: ####\n"
   ]
  },
  {
   "cell_type": "code",
   "execution_count": 28,
   "metadata": {},
   "outputs": [
    {
     "name": "stdout",
     "output_type": "stream",
     "text": [
      "bautista  tiene un promedio de goles de: 0.2\n"
     ]
    }
   ],
   "source": [
    "name=\"BaUtIsTa\"\n",
    "gol_prom=modulos.goals_prom_Player1(name,stats)\n",
    "print(name.lower(),f\" tiene un promedio de goles de: {gol_prom}\")"
   ]
  },
  {
   "cell_type": "markdown",
   "metadata": {},
   "source": [
    "#### Lo mismo que me pasó con el inciso B, ahora en el inciso D hice 2 modulos para cada caso: ####"
   ]
  },
  {
   "cell_type": "code",
   "execution_count": 31,
   "metadata": {},
   "outputs": [
    {
     "name": "stdout",
     "output_type": "stream",
     "text": [
      "El promedio de goles de la mayor goleadora carolina es: 0.56\n"
     ]
    }
   ],
   "source": [
    "gol_prom2=modulos.goals_prom_Player2(stats)\n",
    "print(f\"El promedio de goles de la mayor goleadora {name2} es: {gol_prom2}\")"
   ]
  }
 ],
 "metadata": {
  "kernelspec": {
   "display_name": "Python 3 (ipykernel)",
   "language": "python",
   "name": "python3"
  },
  "language_info": {
   "codemirror_mode": {
    "name": "ipython",
    "version": 3
   },
   "file_extension": ".py",
   "mimetype": "text/x-python",
   "name": "python",
   "nbconvert_exporter": "python",
   "pygments_lexer": "ipython3",
   "version": "3.11.7"
  }
 },
 "nbformat": 4,
 "nbformat_minor": 4
}
